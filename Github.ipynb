{
 "cells": [
  {
   "cell_type": "code",
   "execution_count": 1,
   "id": "1acdce27",
   "metadata": {
    "ExecuteTime": {
     "end_time": "2021-07-05T22:56:33.293838Z",
     "start_time": "2021-07-05T22:56:33.282867Z"
    }
   },
   "outputs": [],
   "source": [
    "x = 4"
   ]
  },
  {
   "cell_type": "code",
   "execution_count": 2,
   "id": "84dbf745",
   "metadata": {
    "ExecuteTime": {
     "end_time": "2021-07-05T22:57:01.325849Z",
     "start_time": "2021-07-05T22:57:01.312286Z"
    }
   },
   "outputs": [],
   "source": [
    "#testando como usar o git"
   ]
  },
  {
   "cell_type": "code",
   "execution_count": null,
   "id": "b5523543",
   "metadata": {},
   "outputs": [],
   "source": []
  }
 ],
 "metadata": {
  "kernelspec": {
   "display_name": "Python 3",
   "language": "python",
   "name": "python3"
  },
  "language_info": {
   "codemirror_mode": {
    "name": "ipython",
    "version": 3
   },
   "file_extension": ".py",
   "mimetype": "text/x-python",
   "name": "python",
   "nbconvert_exporter": "python",
   "pygments_lexer": "ipython3",
   "version": "3.8.8"
  },
  "varInspector": {
   "cols": {
    "lenName": 16,
    "lenType": 16,
    "lenVar": 40
   },
   "kernels_config": {
    "python": {
     "delete_cmd_postfix": "",
     "delete_cmd_prefix": "del ",
     "library": "var_list.py",
     "varRefreshCmd": "print(var_dic_list())"
    },
    "r": {
     "delete_cmd_postfix": ") ",
     "delete_cmd_prefix": "rm(",
     "library": "var_list.r",
     "varRefreshCmd": "cat(var_dic_list()) "
    }
   },
   "types_to_exclude": [
    "module",
    "function",
    "builtin_function_or_method",
    "instance",
    "_Feature"
   ],
   "window_display": false
  }
 },
 "nbformat": 4,
 "nbformat_minor": 5
}
